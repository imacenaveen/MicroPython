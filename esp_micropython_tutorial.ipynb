{
 "cells": [
  {
   "cell_type": "code",
   "execution_count": 4,
   "metadata": {},
   "outputs": [
    {
     "name": "stdout",
     "output_type": "stream",
     "text": [
      "\u001b[34mConnecting to --port=COM3 --baud=115200 \u001b[0m\n",
      "\u001b[34mReady.\n",
      "\u001b[0m"
     ]
    }
   ],
   "source": [
    "%serialconnect to --port=COM3 --baud=115200"
   ]
  },
  {
   "cell_type": "code",
   "execution_count": 5,
   "metadata": {},
   "outputs": [
    {
     "name": "stdout",
     "output_type": "stream",
     "text": [
      "Hello\r\n"
     ]
    }
   ],
   "source": [
    "print(\"Hello\")"
   ]
  },
  {
   "cell_type": "markdown",
   "metadata": {},
   "source": [
    "### Blink Builtin LED"
   ]
  },
  {
   "cell_type": "code",
   "execution_count": 8,
   "metadata": {},
   "outputs": [],
   "source": [
    "# import library to deal with pins:\n",
    "from machine import Pin\n",
    "# define pin 0 as output\n",
    "led = Pin(2, Pin.OUT) # Default LED pin\n",
    "# define value of \"led\" as \"1\" or \"True\" to turn on the LED\n",
    "led.value(1)\n",
    "# define value of \"led\" as \"0\" or \"False\" to turn off the LED\n",
    "led.value(0)\n",
    "# also you can use .on() or .off methods to control the pin:\n",
    "led.on()\n",
    "led.off()"
   ]
  },
  {
   "cell_type": "code",
   "execution_count": 12,
   "metadata": {},
   "outputs": [
    {
     "name": "stdout",
     "output_type": "stream",
     "text": [
      "."
     ]
    }
   ],
   "source": [
    "from time import sleep\n",
    "for i in range(5):\n",
    "    led.on()\n",
    "    sleep(0.5)\n",
    "    led.off()\n",
    "    sleep(0.5)\n",
    "led.on() # makes default led off"
   ]
  },
  {
   "cell_type": "markdown",
   "metadata": {},
   "source": [
    "### Digital Input"
   ]
  },
  {
   "cell_type": "code",
   "execution_count": 13,
   "metadata": {},
   "outputs": [
    {
     "name": "stdout",
     "output_type": "stream",
     "text": [
      "1\r\n"
     ]
    }
   ],
   "source": [
    "# define pin 13 as an input and activate an internal Pull-up resistor:\n",
    "button = Pin(13, Pin.IN, Pin.PULL_UP)\n",
    "# Read button state:\n",
    "print(button.value())"
   ]
  },
  {
   "cell_type": "markdown",
   "metadata": {},
   "source": [
    "### PWM"
   ]
  },
  {
   "cell_type": "code",
   "execution_count": 14,
   "metadata": {},
   "outputs": [],
   "source": [
    "from machine import Pin, PWM"
   ]
  },
  {
   "cell_type": "code",
   "execution_count": null,
   "metadata": {},
   "outputs": [],
   "source": [
    "pwm0 = PWM(Pin(0))      # create PWM object from a pin\n",
    "pwm0.freq()             # get current frequency\n",
    "pwm0.freq(1000)         # set frequency\n",
    "pwm0.duty()             # get current duty cycle\n",
    "pwm0.duty(200)          # set duty cycle\n",
    "pwm0.deinit()           # turn off PWM on the pin"
   ]
  }
 ],
 "metadata": {
  "kernelspec": {
   "display_name": "MicroPython - USB",
   "language": "micropython",
   "name": "micropython"
  },
  "language_info": {
   "codemirror_mode": "python",
   "file_extension": ".py",
   "mimetype": "text/python",
   "name": "micropython"
  }
 },
 "nbformat": 4,
 "nbformat_minor": 2
}
