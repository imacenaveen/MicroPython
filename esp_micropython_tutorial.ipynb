{
 "cells": [
  {
   "cell_type": "code",
   "execution_count": null,
   "metadata": {},
   "outputs": [],
   "source": [
    "\n",
    "# import library to deal with pins:\n",
    "from machine import Pin\n",
    "from time import sleep\n",
    "import ultrasonic\n",
    "import random\n",
    "# define pins\n",
    "print('In')\n",
    "echo = 16 # Echo\n",
    "trigger = 5 # Trigger\n",
    "\n",
    "m1_1 = Pin(14, Pin.OUT) # Motor 1 , pin1\n",
    "m1_2 = Pin(12, Pin.OUT) # Motor 1 , pin2\n",
    "m2_1 = Pin(13, Pin.OUT) # Motor 2 , pin1\n",
    "m2_2 = Pin(15, Pin.OUT) # Motor 2 , pin1\n",
    "\n",
    "m1_1.value(1)\n",
    "m1_1.value(0)\n",
    "m1_2.value(1)\n",
    "m1_2.value(0)\n",
    "\n",
    "m2_1.value(1)\n",
    "m2_1.value(0)\n",
    "m2_2.value(1)\n",
    "m2_2.value(0)\n",
    "\n",
    "sensor = ultrasonic.Ultrasonic(trigger,echo)\n",
    "\n",
    "while True:\n",
    "    try:\n",
    "        dist = sensor.distance_in_cm()\n",
    "        print(\"Dist = {}\".format(dist))\n",
    "    except ultrasonic.MeasurementTimeout as e:\n",
    "        print(\"{}\".format(e))\n",
    "        try:\n",
    "            dist = sensor.distance_in_cm()\n",
    "            print(\"Dist = {}\".format(dist))\n",
    "        except ultrasonic.MeasurementTimeout as e:\n",
    "            dist = 10\n",
    "            print('dist set to 10')\n",
    "    #user_input = input()\n",
    "    if dist > 60:\n",
    "        m1_1.on();m1_2.off()\n",
    "        m2_1.on();m2_2.off()\n",
    "        sleep(2)\n",
    "    elif dist < 60:\n",
    "        choice = random.randint(0,2)\n",
    "        print('choice = ',choice)\n",
    "        if choice == 0:\n",
    "            m1_1.off();m1_2.on()\n",
    "            m2_1.off();m2_2.on()\n",
    "            sleep(2)\n",
    "        elif choice == 1:\n",
    "            m1_1.on();m1_2.off()\n",
    "            m2_1.off();m2_2.on()\n",
    "            sleep(1)\n",
    "        elif choice == 2:\n",
    "            m1_1.off();m1_2.on()\n",
    "            m2_1.on();m2_2.off()\n",
    "            sleep(1)\n",
    "    m1_1.on();m1_2.on()\n",
    "    m2_1.on();m2_2.on()\n",
    "    sleep(1)\n",
    "        \n"
   ]
  },
  {
   "cell_type": "code",
   "execution_count": 2,
   "metadata": {},
   "outputs": [
    {
     "name": "stdout",
     "output_type": "stream",
     "text": [
      "\u001b[34mConnecting to --port=/dev/ttyUSB0 --baud=115200 \u001b[0mcould not open port /dev/ttyUSB0: [Errno 2] No such file or directory: '/dev/ttyUSB0'\n",
      "\u001b[34m\n",
      "Are you sure your ESP-device is plugged in?\u001b[0m"
     ]
    }
   ],
   "source": [
    "%serialconnect to --port=/dev/ttyUSB0 --baud=115200"
   ]
  },
  {
   "cell_type": "code",
   "execution_count": 1,
   "metadata": {},
   "outputs": [
    {
     "name": "stdout",
     "output_type": "stream",
     "text": [
      "\u001b[31mNo serial connected\n",
      "\u001b[0m  %serialconnect to connect\n",
      "  %esptool to flash the device\n",
      "  %lsmagic to list commands"
     ]
    }
   ],
   "source": [
    "print(\"Hello\")"
   ]
  },
  {
   "cell_type": "code",
   "execution_count": null,
   "metadata": {},
   "outputs": [],
   "source": [
    "# import library to deal with pins:\n",
    "from machine import Pin\n",
    "from time import sleep\n",
    "# define pin 0 as output\n",
    "m1_1 = Pin(16, Pin.OUT) # Motor 1 , pin1\n",
    "m1_2 = Pin(5, Pin.OUT) # Motor 2 , pin2\n",
    "m2_1 = Pin(4, Pin.OUT) # Motor 2 , pin1\n",
    "m2_2 = Pin(0, Pin.OUT) # Motor 1 , pin1\n",
    "\n",
    "m1_1.value(1)\n",
    "m1_1.value(0)\n",
    "m1_2.value(1)\n",
    "m1_2.value(0)\n",
    "\n",
    "m2_1.value(1)\n",
    "m2_1.value(0)\n",
    "m2_2.value(1)\n",
    "m2_2.value(0)\n",
    "\n",
    "for _ in range(5):\n",
    "    m1_1.on();m1_2.off()\n",
    "    m2_1.on();m2_2.off()\n",
    "    sleep(5)\n",
    "    m1_1.off();m1_2.on()\n",
    "    m2_1.off();m2_2.on()\n",
    "    sleep(5)\n",
    "    m1_1.on();m1_2.on()\n",
    "    m2_1.on();m2_2.on()\n",
    "    sleep(5)"
   ]
  },
  {
   "cell_type": "code",
   "execution_count": 1,
   "metadata": {},
   "outputs": [
    {
     "name": "stdout",
     "output_type": "stream",
     "text": [
      "\u001b[31mNo serial connected\n",
      "\u001b[0m  %serialconnect to connect\n",
      "  %esptool to flash the device\n",
      "  %lsmagic to list commands"
     ]
    }
   ],
   "source": [
    "# import library to deal with pins:\n",
    "from machine import Pin\n",
    "from time import sleep\n",
    "# define pin 0 as output\n",
    "m1_1 = Pin(16, Pin.OUT) # Motor 1 , pin1\n",
    "m1_2 = Pin(5, Pin.OUT) # Motor 1 , pin2\n",
    "m2_1 = Pin(4, Pin.OUT) # Motor 2 , pin1\n",
    "m2_2 = Pin(0, Pin.OUT) # Motor 2 , pin1\n",
    "\n",
    "m1_1.value(1)\n",
    "m1_1.value(0)\n",
    "m1_2.value(1)\n",
    "m1_2.value(0)\n",
    "\n",
    "m2_1.value(1)\n",
    "m2_1.value(0)\n",
    "m2_2.value(1)\n",
    "m2_2.value(0)\n",
    "\n",
    "for _ in range(10):\n",
    "    user_input = input()\n",
    "    if user_input == 'w':\n",
    "        m1_1.on();m1_2.off()\n",
    "        m2_1.on();m2_2.off()\n",
    "        sleep(5)\n",
    "    elif user_input == 's':\n",
    "        m1_1.off();m1_2.on()\n",
    "        m2_1.off();m2_2.on()\n",
    "        sleep(5)\n",
    "    elif user_input == 'a':\n",
    "        m1_1.on();m1_2.off()\n",
    "        m2_1.off();m2_2.on()\n",
    "        sleep(5)\n",
    "    elif user_input == 'd':\n",
    "        m1_1.off();m1_2.on()\n",
    "        m2_1.on();m2_2.off()\n",
    "        sleep(5)\n",
    "    m1_1.on();m1_2.on()\n",
    "    m2_1.on();m2_2.on()\n",
    "    sleep(5)\n",
    "        "
   ]
  },
  {
   "cell_type": "markdown",
   "metadata": {},
   "source": [
    "### Blink Builtin LED"
   ]
  },
  {
   "cell_type": "code",
   "execution_count": 3,
   "metadata": {},
   "outputs": [],
   "source": [
    "# import library to deal with pins:\n",
    "from machine import Pin\n",
    "# define pin 0 as output\n",
    "led = Pin(2, Pin.OUT) # Default LED pin\n",
    "# define value of \"led\" as \"1\" or \"True\" to turn on the LED\n",
    "led.value(1)\n",
    "# define value of \"led\" as \"0\" or \"False\" to turn off the LED\n",
    "led.value(0)\n",
    "# also you can use .on() or .off methods to control the pin:\n",
    "led.on()\n",
    "led.off()"
   ]
  },
  {
   "cell_type": "code",
   "execution_count": 4,
   "metadata": {},
   "outputs": [
    {
     "name": "stdout",
     "output_type": "stream",
     "text": [
      "."
     ]
    }
   ],
   "source": [
    "from time import sleep\n",
    "for i in range(5):\n",
    "    led.on()\n",
    "    sleep(0.5)\n",
    "    led.off()\n",
    "    sleep(0.5)\n",
    "led.on() # makes default led off"
   ]
  },
  {
   "cell_type": "markdown",
   "metadata": {},
   "source": [
    "### Digital Input"
   ]
  },
  {
   "cell_type": "code",
   "execution_count": 13,
   "metadata": {},
   "outputs": [
    {
     "name": "stdout",
     "output_type": "stream",
     "text": [
      "1\r\n"
     ]
    }
   ],
   "source": [
    "# define pin 13 as an input and activate an internal Pull-up resistor:\n",
    "button = Pin(13, Pin.IN, Pin.PULL_UP)\n",
    "# Read button state:\n",
    "print(button.value())"
   ]
  },
  {
   "cell_type": "markdown",
   "metadata": {},
   "source": [
    "### PWM"
   ]
  },
  {
   "cell_type": "code",
   "execution_count": 14,
   "metadata": {},
   "outputs": [],
   "source": [
    "from machine import Pin, PWM"
   ]
  },
  {
   "cell_type": "code",
   "execution_count": null,
   "metadata": {},
   "outputs": [],
   "source": [
    "pwm0 = PWM(Pin(0))      # create PWM object from a pin\n",
    "pwm0.freq()             # get current frequency\n",
    "pwm0.freq(1000)         # set frequency\n",
    "pwm0.duty()             # get current duty cycle\n",
    "pwm0.duty(200)          # set duty cycle\n",
    "pwm0.deinit()           # turn off PWM on the pin"
   ]
  }
 ],
 "metadata": {
  "kernelspec": {
   "display_name": "MicroPython - USB",
   "language": "micropython",
   "name": "micropython"
  },
  "language_info": {
   "codemirror_mode": "python",
   "file_extension": ".py",
   "mimetype": "text/python",
   "name": "micropython"
  }
 },
 "nbformat": 4,
 "nbformat_minor": 2
}
