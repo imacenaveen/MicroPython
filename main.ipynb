{
 "cells": [
  {
   "cell_type": "code",
   "execution_count": null,
   "metadata": {},
   "outputs": [],
   "source": [
    "# import library to deal with pins:\n",
    "from machine import Pin\n",
    "from time import sleep\n",
    "# define pin 0 as output\n",
    "m1_1 = Pin(16, Pin.OUT) # Motor 1 , pin1\n",
    "m1_2 = Pin(5, Pin.OUT) # Motor 1 , pin2\n",
    "m2_1 = Pin(4, Pin.OUT) # Motor 2 , pin1\n",
    "m2_2 = Pin(0, Pin.OUT) # Motor 2 , pin1\n",
    "\n",
    "m1_1.value(1)\n",
    "m1_1.value(0)\n",
    "m1_2.value(1)\n",
    "m1_2.value(0)\n",
    "\n",
    "m2_1.value(1)\n",
    "m2_1.value(0)\n",
    "m2_2.value(1)\n",
    "m2_2.value(0)\n",
    "\n",
    "while True:\n",
    "    user_input = input()\n",
    "    if user_input == 'w':\n",
    "        m1_1.on();m1_2.off()\n",
    "        m2_1.on();m2_2.off()\n",
    "        sleep(2)\n",
    "    elif user_input == 's':\n",
    "        m1_1.off();m1_2.on()\n",
    "        m2_1.off();m2_2.on()\n",
    "        sleep(2)\n",
    "    elif user_input == 'a':\n",
    "        m1_1.on();m1_2.off()\n",
    "        m2_1.off();m2_2.on()\n",
    "        sleep(1)\n",
    "    elif user_input == 'd':\n",
    "        m1_1.off();m1_2.on()\n",
    "        m2_1.on();m2_2.off()\n",
    "        sleep(1)\n",
    "    m1_1.on();m1_2.on()\n",
    "    m2_1.on();m2_2.on()\n",
    "    sleep(1)\n",
    "        "
   ]
  }
 ],
 "metadata": {
  "kernelspec": {
   "display_name": "MicroPython - USB",
   "language": "micropython",
   "name": "micropython"
  },
  "language_info": {
   "codemirror_mode": "python",
   "file_extension": ".py",
   "mimetype": "text/python",
   "name": "micropython"
  }
 },
 "nbformat": 4,
 "nbformat_minor": 2
}
